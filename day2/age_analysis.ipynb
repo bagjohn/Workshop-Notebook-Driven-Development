{
 "cells": [
  {
   "cell_type": "code",
   "execution_count": 1,
   "id": "80a2324e-73a2-4a83-b515-85a0b9cfb1a8",
   "metadata": {},
   "outputs": [],
   "source": [
    "%load_ext autoreload\n",
    "%autoreload 2"
   ]
  },
  {
   "cell_type": "code",
   "execution_count": 2,
   "id": "533c4b6d-ffba-4692-a216-138b69c75cd1",
   "metadata": {},
   "outputs": [],
   "source": [
    "import params"
   ]
  },
  {
   "cell_type": "code",
   "execution_count": 5,
   "id": "44447b82-bcf5-4356-bfab-19e049298d3e",
   "metadata": {},
   "outputs": [
    {
     "data": {
      "text/plain": [
       "50"
      ]
     },
     "execution_count": 5,
     "metadata": {},
     "output_type": "execute_result"
    }
   ],
   "source": [
    "params.age_min"
   ]
  },
  {
   "cell_type": "code",
   "execution_count": 6,
   "id": "8f052997-60c1-4068-8b9a-d750833ec294",
   "metadata": {},
   "outputs": [
    {
     "data": {
      "text/plain": [
       "90"
      ]
     },
     "execution_count": 6,
     "metadata": {},
     "output_type": "execute_result"
    }
   ],
   "source": [
    "params.age_max"
   ]
  }
 ],
 "metadata": {
  "kernelspec": {
   "display_name": "ndd_d1",
   "language": "python",
   "name": "ndd_d1"
  },
  "language_info": {
   "codemirror_mode": {
    "name": "ipython",
    "version": 3
   },
   "file_extension": ".py",
   "mimetype": "text/x-python",
   "name": "python",
   "nbconvert_exporter": "python",
   "pygments_lexer": "ipython3",
   "version": "3.12.7"
  }
 },
 "nbformat": 4,
 "nbformat_minor": 5
}

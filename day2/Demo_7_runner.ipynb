{
 "cells": [
  {
   "cell_type": "code",
   "execution_count": 1,
   "id": "86ae46e2-507c-4a15-8456-e754f292acff",
   "metadata": {
    "editable": true,
    "slideshow": {
     "slide_type": ""
    },
    "tags": [
     "injected-parameters"
    ]
   },
   "outputs": [
    {
     "name": "stderr",
     "output_type": "stream",
     "text": [
      "Input Notebook:  Demo_7.ipynb\n",
      "Output Notebook: output.ipynb\n",
      "\n",
      "Executing:   0%|          | 0/7 [00:00<?, ?cell/s]Executing notebook with kernel: ndd_d1\n",
      "\n",
      "Executing:  14%|#4        | 1/7 [00:03<00:22,  3.81s/cell]\n",
      "Executing: 100%|##########| 7/7 [00:04<00:00,  1.65cell/s]\n"
     ]
    }
   ],
   "source": [
    "!papermill Demo_7.ipynb -p a 55 output.ipynb"
   ]
  },
  {
   "cell_type": "code",
   "execution_count": 4,
   "id": "524453e3-2aa1-40fc-873f-213b9612c067",
   "metadata": {
    "editable": true,
    "slideshow": {
     "slide_type": ""
    },
    "tags": [
     "injected-parameters"
    ]
   },
   "outputs": [
    {
     "name": "stderr",
     "output_type": "stream",
     "text": [
      "Usage: papermill [OPTIONS] [NOTEBOOK_PATH] [OUTPUT_PATH]\n",
      "Try 'papermill -h' for help.\n",
      "\n",
      "Error: Got unexpected extra arguments (79 output_1.ipynb)\n"
     ]
    }
   ],
   "source": [
    "!papermill Demo_7.ipynb -p a 32 -p b 79 output_1.ipynb"
   ]
  },
  {
   "cell_type": "code",
   "execution_count": null,
   "id": "cc984571-4f49-434f-a5f0-9e2fa0f0d45a",
   "metadata": {},
   "outputs": [],
   "source": []
  }
 ],
 "metadata": {
  "kernelspec": {
   "display_name": "ndd_d1",
   "language": "python",
   "name": "ndd_d1"
  },
  "language_info": {
   "codemirror_mode": {
    "name": "ipython",
    "version": 3
   },
   "file_extension": ".py",
   "mimetype": "text/x-python",
   "name": "python",
   "nbconvert_exporter": "python",
   "pygments_lexer": "ipython3",
   "version": "3.12.7"
  }
 },
 "nbformat": 4,
 "nbformat_minor": 5
}

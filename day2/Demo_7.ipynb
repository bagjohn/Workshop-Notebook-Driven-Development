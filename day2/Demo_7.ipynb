{
 "cells": [
  {
   "cell_type": "code",
   "execution_count": 1,
   "id": "ed960504-cb81-4fe9-9a54-c308665bdfe2",
   "metadata": {},
   "outputs": [],
   "source": [
    "# !pip install papermill"
   ]
  },
  {
   "cell_type": "code",
   "execution_count": 2,
   "id": "7c21a6bd-5409-48be-bc03-5499fbb605ff",
   "metadata": {
    "editable": true,
    "slideshow": {
     "slide_type": ""
    },
    "tags": [
     "injected-parameters"
    ]
   },
   "outputs": [],
   "source": [
    "a = 10\n",
    "b = 5"
   ]
  },
  {
   "cell_type": "markdown",
   "id": "f8719de3-57e2-45b7-8c4d-a069b1e1b7a8",
   "metadata": {},
   "source": [
    "Sum"
   ]
  },
  {
   "cell_type": "code",
   "execution_count": 3,
   "id": "9db3c71c-f623-4a01-bb18-7d95cd8043fa",
   "metadata": {
    "editable": true,
    "slideshow": {
     "slide_type": ""
    },
    "tags": []
   },
   "outputs": [],
   "source": [
    "c = a + b"
   ]
  },
  {
   "cell_type": "markdown",
   "id": "1dffe5c5-9917-4a90-a816-5cb9ca89b980",
   "metadata": {},
   "source": [
    "Output"
   ]
  },
  {
   "cell_type": "code",
   "execution_count": 4,
   "id": "f7a83488-307f-4cc4-ae40-f56718404fb0",
   "metadata": {},
   "outputs": [
    {
     "data": {
      "text/plain": [
       "15"
      ]
     },
     "execution_count": 4,
     "metadata": {},
     "output_type": "execute_result"
    }
   ],
   "source": [
    "c"
   ]
  }
 ],
 "metadata": {
  "kernelspec": {
   "display_name": "ndd_d1",
   "language": "python",
   "name": "ndd_d1"
  },
  "language_info": {
   "codemirror_mode": {
    "name": "ipython",
    "version": 3
   },
   "file_extension": ".py",
   "mimetype": "text/x-python",
   "name": "python",
   "nbconvert_exporter": "python",
   "pygments_lexer": "ipython3",
   "version": "3.12.7"
  }
 },
 "nbformat": 4,
 "nbformat_minor": 5
}

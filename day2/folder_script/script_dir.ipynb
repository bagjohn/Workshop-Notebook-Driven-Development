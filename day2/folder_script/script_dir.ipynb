{
 "cells": [
  {
   "cell_type": "code",
   "execution_count": 1,
   "id": "d1944ae8-37a4-4483-8783-a6b5913d7f57",
   "metadata": {},
   "outputs": [],
   "source": [
    "name = 'ABC'"
   ]
  },
  {
   "cell_type": "code",
   "execution_count": 2,
   "id": "5eb7ebe6-a303-4275-9213-c4d8e5700cf9",
   "metadata": {},
   "outputs": [],
   "source": [
    "age = 100"
   ]
  }
 ],
 "metadata": {
  "kernelspec": {
   "display_name": "ndd_d1",
   "language": "python",
   "name": "ndd_d1"
  },
  "language_info": {
   "codemirror_mode": {
    "name": "ipython",
    "version": 3
   },
   "file_extension": ".py",
   "mimetype": "text/x-python",
   "name": "python",
   "nbconvert_exporter": "python",
   "pygments_lexer": "ipython3",
   "version": "3.12.7"
  }
 },
 "nbformat": 4,
 "nbformat_minor": 5
}

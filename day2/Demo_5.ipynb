{
 "cells": [
  {
   "cell_type": "code",
   "execution_count": 1,
   "id": "3d80d3b9-bf63-433d-82cd-eed8dce02b50",
   "metadata": {},
   "outputs": [],
   "source": [
    "import pandas as pd"
   ]
  },
  {
   "cell_type": "code",
   "execution_count": null,
   "id": "4c4656ad-3046-4bc9-b4f4-34cc0c0b3478",
   "metadata": {},
   "outputs": [],
   "source": [
    "# pd.read_csv"
   ]
  },
  {
   "cell_type": "code",
   "execution_count": 2,
   "id": "dcd6d9b4-9fcb-4e7f-8336-761335cc19d5",
   "metadata": {},
   "outputs": [],
   "source": [
    "import script"
   ]
  },
  {
   "cell_type": "code",
   "execution_count": 24,
   "id": "f8422665-b0c5-494d-88fa-8ecc50ba4f19",
   "metadata": {},
   "outputs": [],
   "source": [
    "%run script.py"
   ]
  },
  {
   "cell_type": "code",
   "execution_count": 25,
   "id": "bc3f8bdc-abb5-4441-a950-0e44c1871f28",
   "metadata": {},
   "outputs": [
    {
     "data": {
      "text/plain": [
       "500"
      ]
     },
     "execution_count": 25,
     "metadata": {},
     "output_type": "execute_result"
    }
   ],
   "source": [
    "c"
   ]
  },
  {
   "cell_type": "code",
   "execution_count": 23,
   "id": "ed1bf774-ff6c-4ad2-b1e0-c78a1a0edf1a",
   "metadata": {},
   "outputs": [
    {
     "data": {
      "text/plain": [
       "100"
      ]
     },
     "execution_count": 23,
     "metadata": {},
     "output_type": "execute_result"
    }
   ],
   "source": [
    "script.c"
   ]
  },
  {
   "cell_type": "code",
   "execution_count": 3,
   "id": "5f6622dd-4bfe-49cf-bf63-8c3252b5cb6e",
   "metadata": {},
   "outputs": [
    {
     "data": {
      "text/plain": [
       "10"
      ]
     },
     "execution_count": 3,
     "metadata": {},
     "output_type": "execute_result"
    }
   ],
   "source": [
    "script.a"
   ]
  },
  {
   "cell_type": "code",
   "execution_count": 4,
   "id": "dab9accb-ba50-4961-9949-a3f914b843d2",
   "metadata": {},
   "outputs": [
    {
     "data": {
      "text/plain": [
       "20"
      ]
     },
     "execution_count": 4,
     "metadata": {},
     "output_type": "execute_result"
    }
   ],
   "source": [
    "script.b"
   ]
  },
  {
   "cell_type": "code",
   "execution_count": 6,
   "id": "2e5f1cd2-077b-44a6-8516-f2729ec7c7c9",
   "metadata": {},
   "outputs": [],
   "source": [
    "from script import c"
   ]
  },
  {
   "cell_type": "code",
   "execution_count": 7,
   "id": "c120ab38-274b-483d-8d87-19349b8c3aa9",
   "metadata": {},
   "outputs": [
    {
     "data": {
      "text/plain": [
       "100"
      ]
     },
     "execution_count": 7,
     "metadata": {},
     "output_type": "execute_result"
    }
   ],
   "source": [
    "c"
   ]
  },
  {
   "cell_type": "code",
   "execution_count": 8,
   "id": "deeee67b-ae1b-4d0c-bda1-2938fbbc85a2",
   "metadata": {},
   "outputs": [
    {
     "ename": "ModuleNotFoundError",
     "evalue": "No module named 'script_nb'",
     "output_type": "error",
     "traceback": [
      "\u001b[1;31m---------------------------------------------------------------------------\u001b[0m",
      "\u001b[1;31mModuleNotFoundError\u001b[0m                       Traceback (most recent call last)",
      "Cell \u001b[1;32mIn[8], line 1\u001b[0m\n\u001b[1;32m----> 1\u001b[0m \u001b[38;5;28;01mimport\u001b[39;00m \u001b[38;5;21;01mscript_nb\u001b[39;00m\n",
      "\u001b[1;31mModuleNotFoundError\u001b[0m: No module named 'script_nb'"
     ]
    }
   ],
   "source": [
    "import script_nb"
   ]
  },
  {
   "cell_type": "code",
   "execution_count": 9,
   "id": "687d8c11-83a0-4754-9baf-8b662a9263bf",
   "metadata": {},
   "outputs": [],
   "source": [
    "%run script_nb.ipynb"
   ]
  },
  {
   "cell_type": "code",
   "execution_count": 10,
   "id": "ae8441a3-1367-4625-9304-bbf7c9f44e87",
   "metadata": {},
   "outputs": [
    {
     "data": {
      "text/plain": [
       "10"
      ]
     },
     "execution_count": 10,
     "metadata": {},
     "output_type": "execute_result"
    }
   ],
   "source": [
    "nb_a"
   ]
  },
  {
   "cell_type": "code",
   "execution_count": 11,
   "id": "d24dbdf1-cc34-4f81-ae09-07b0f7c3c3e5",
   "metadata": {},
   "outputs": [
    {
     "data": {
      "text/plain": [
       "20"
      ]
     },
     "execution_count": 11,
     "metadata": {},
     "output_type": "execute_result"
    }
   ],
   "source": [
    "nb_b"
   ]
  },
  {
   "cell_type": "code",
   "execution_count": 12,
   "id": "5511cfad-2324-40f3-94ef-933798f27650",
   "metadata": {},
   "outputs": [
    {
     "data": {
      "text/plain": [
       "300"
      ]
     },
     "execution_count": 12,
     "metadata": {},
     "output_type": "execute_result"
    }
   ],
   "source": [
    "nb_c"
   ]
  },
  {
   "cell_type": "code",
   "execution_count": 13,
   "id": "5180d5bc-ae29-4375-bee0-ca8c229bc7ca",
   "metadata": {},
   "outputs": [],
   "source": [
    "%run folder_script/script_dir.ipynb"
   ]
  },
  {
   "cell_type": "code",
   "execution_count": 21,
   "id": "2e26c79d-70ea-4a2d-b2cf-6e40a15c6cfd",
   "metadata": {},
   "outputs": [],
   "source": [
    "%run folder_script/dir_py.py"
   ]
  },
  {
   "cell_type": "code",
   "execution_count": 22,
   "id": "1e024fbd-9f54-4ec0-8f7f-0ce966249dd2",
   "metadata": {},
   "outputs": [
    {
     "data": {
      "text/plain": [
       "153"
      ]
     },
     "execution_count": 22,
     "metadata": {},
     "output_type": "execute_result"
    }
   ],
   "source": [
    "height"
   ]
  },
  {
   "cell_type": "code",
   "execution_count": 14,
   "id": "94635830-b830-42f0-93ba-879f0ae4442a",
   "metadata": {},
   "outputs": [
    {
     "data": {
      "text/plain": [
       "'ABC'"
      ]
     },
     "execution_count": 14,
     "metadata": {},
     "output_type": "execute_result"
    }
   ],
   "source": [
    "name"
   ]
  },
  {
   "cell_type": "code",
   "execution_count": 15,
   "id": "d95ede9a-cad5-4f1e-8fd3-179e3db3338f",
   "metadata": {},
   "outputs": [
    {
     "ename": "ModuleNotFoundError",
     "evalue": "No module named 'dir_py'",
     "output_type": "error",
     "traceback": [
      "\u001b[1;31m---------------------------------------------------------------------------\u001b[0m",
      "\u001b[1;31mModuleNotFoundError\u001b[0m                       Traceback (most recent call last)",
      "Cell \u001b[1;32mIn[15], line 1\u001b[0m\n\u001b[1;32m----> 1\u001b[0m \u001b[38;5;28;01mimport\u001b[39;00m \u001b[38;5;21;01mdir_py\u001b[39;00m\n",
      "\u001b[1;31mModuleNotFoundError\u001b[0m: No module named 'dir_py'"
     ]
    }
   ],
   "source": [
    "import dir_py"
   ]
  },
  {
   "cell_type": "code",
   "execution_count": 16,
   "id": "972a6e09-1cb2-4c32-8af2-9f2782b08572",
   "metadata": {},
   "outputs": [],
   "source": [
    "import sys\n",
    "sys.path.append('folder_script/')"
   ]
  },
  {
   "cell_type": "code",
   "execution_count": 28,
   "id": "ab646be9-8121-4c58-af3a-58f430a5575c",
   "metadata": {},
   "outputs": [],
   "source": [
    "import dir_py"
   ]
  },
  {
   "cell_type": "code",
   "execution_count": null,
   "id": "62fc28b6-3947-41a0-a177-928e4ace3a84",
   "metadata": {},
   "outputs": [],
   "source": []
  },
  {
   "cell_type": "code",
   "execution_count": 19,
   "id": "a023df2c-2007-4e24-87f9-be22d8dcf3f9",
   "metadata": {},
   "outputs": [],
   "source": [
    "import folder_script.dir_py as dirpy"
   ]
  },
  {
   "cell_type": "code",
   "execution_count": 20,
   "id": "14cb33ad-1ba4-446b-b246-a13a6156957e",
   "metadata": {},
   "outputs": [
    {
     "data": {
      "text/plain": [
       "153"
      ]
     },
     "execution_count": 20,
     "metadata": {},
     "output_type": "execute_result"
    }
   ],
   "source": [
    "dirpy.height"
   ]
  },
  {
   "cell_type": "markdown",
   "id": "0c06361d-ba8a-4dc9-ba24-2f4fb50ab878",
   "metadata": {},
   "source": [
    "---"
   ]
  },
  {
   "cell_type": "code",
   "execution_count": 26,
   "id": "ee58fad0-d1be-4243-8ecf-2b2d3a65c8f8",
   "metadata": {},
   "outputs": [
    {
     "name": "stdout",
     "output_type": "stream",
     "text": [
      "Check\n"
     ]
    }
   ],
   "source": [
    "%run printscript.py"
   ]
  },
  {
   "cell_type": "code",
   "execution_count": 27,
   "id": "498571e9-b65a-4df2-9ea9-aaf0da0d9a8e",
   "metadata": {},
   "outputs": [
    {
     "name": "stdout",
     "output_type": "stream",
     "text": [
      "Check\n"
     ]
    }
   ],
   "source": [
    "import printscript"
   ]
  },
  {
   "cell_type": "markdown",
   "id": "18bcf8c3-8dfc-4f29-b315-a1853f5418ed",
   "metadata": {},
   "source": [
    "---\n",
    "\n",
    "Import by path possible?"
   ]
  },
  {
   "cell_type": "code",
   "execution_count": 31,
   "id": "49a982ab-af4d-469b-8be1-70b67c28bdfe",
   "metadata": {},
   "outputs": [
    {
     "name": "stdout",
     "output_type": "stream",
     "text": [
      "abc\n"
     ]
    }
   ],
   "source": [
    "import folder2.pathimport"
   ]
  },
  {
   "cell_type": "code",
   "execution_count": 33,
   "id": "26a2563d-9ab1-4e4b-b200-7dc02d524009",
   "metadata": {},
   "outputs": [],
   "source": [
    "import folder2 as f2"
   ]
  },
  {
   "cell_type": "code",
   "execution_count": 4,
   "id": "87237136-dcd7-4c2d-8fcd-5e373e1dcee5",
   "metadata": {},
   "outputs": [
    {
     "name": "stdout",
     "output_type": "stream",
     "text": [
      "Object `f2.pathimport` not found.\n"
     ]
    }
   ],
   "source": [
    "f2.pathimport?"
   ]
  },
  {
   "cell_type": "code",
   "execution_count": 1,
   "id": "66b57a64-9325-4b5e-b354-bd3d93469176",
   "metadata": {},
   "outputs": [],
   "source": [
    "import folder2 as f2"
   ]
  },
  {
   "cell_type": "code",
   "execution_count": 3,
   "id": "1cd8eb72-3942-4e3d-8a39-c223e76e5ee5",
   "metadata": {},
   "outputs": [
    {
     "ename": "AttributeError",
     "evalue": "module 'folder2' has no attribute 'pathimport'",
     "output_type": "error",
     "traceback": [
      "\u001b[1;31m---------------------------------------------------------------------------\u001b[0m",
      "\u001b[1;31mAttributeError\u001b[0m                            Traceback (most recent call last)",
      "Cell \u001b[1;32mIn[3], line 1\u001b[0m\n\u001b[1;32m----> 1\u001b[0m f2\u001b[38;5;241m.\u001b[39mpathimport\u001b[38;5;241m.\u001b[39ma\n",
      "\u001b[1;31mAttributeError\u001b[0m: module 'folder2' has no attribute 'pathimport'"
     ]
    }
   ],
   "source": [
    "f2.pathimport.a"
   ]
  },
  {
   "cell_type": "code",
   "execution_count": null,
   "id": "f1fb4857-fbbe-49fe-8266-7824774ccc04",
   "metadata": {},
   "outputs": [],
   "source": []
  }
 ],
 "metadata": {
  "kernelspec": {
   "display_name": "ndd_d1",
   "language": "python",
   "name": "ndd_d1"
  },
  "language_info": {
   "codemirror_mode": {
    "name": "ipython",
    "version": 3
   },
   "file_extension": ".py",
   "mimetype": "text/x-python",
   "name": "python",
   "nbconvert_exporter": "python",
   "pygments_lexer": "ipython3",
   "version": "3.12.7"
  }
 },
 "nbformat": 4,
 "nbformat_minor": 5
}

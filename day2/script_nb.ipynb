{
 "cells": [
  {
   "cell_type": "code",
   "execution_count": 1,
   "id": "c5224143-cf15-4b97-8c2d-238878e1cc2f",
   "metadata": {},
   "outputs": [],
   "source": [
    "nb_a = 10"
   ]
  },
  {
   "cell_type": "code",
   "execution_count": 2,
   "id": "4416c046-713f-4d7f-86e6-ae342a1e96a8",
   "metadata": {},
   "outputs": [],
   "source": [
    "nb_b = 20"
   ]
  },
  {
   "cell_type": "code",
   "execution_count": 3,
   "id": "ae56a17c-d43d-4de3-874b-6960a3a8fcf2",
   "metadata": {},
   "outputs": [],
   "source": [
    "nb_c = 300"
   ]
  },
  {
   "cell_type": "code",
   "execution_count": null,
   "id": "1a70c5dd-f12f-4ab9-b776-66a68851aa8d",
   "metadata": {},
   "outputs": [],
   "source": []
  }
 ],
 "metadata": {
  "kernelspec": {
   "display_name": "ndd_d1",
   "language": "python",
   "name": "ndd_d1"
  },
  "language_info": {
   "codemirror_mode": {
    "name": "ipython",
    "version": 3
   },
   "file_extension": ".py",
   "mimetype": "text/x-python",
   "name": "python",
   "nbconvert_exporter": "python",
   "pygments_lexer": "ipython3",
   "version": "3.12.7"
  }
 },
 "nbformat": 4,
 "nbformat_minor": 5
}

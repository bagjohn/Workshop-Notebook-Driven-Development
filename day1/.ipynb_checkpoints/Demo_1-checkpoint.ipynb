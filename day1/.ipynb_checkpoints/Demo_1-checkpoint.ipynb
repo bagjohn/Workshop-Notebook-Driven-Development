{
 "cells": [
  {
   "cell_type": "code",
   "execution_count": 6,
   "id": "1168619d-010f-4e01-b79e-47d2536f3dba",
   "metadata": {},
   "outputs": [
    {
     "name": "stdout",
     "output_type": "stream",
     "text": [
      "Channels:\n",
      " - defaults\n",
      " - conda-forge\n",
      "Platform: win-64\n",
      "Collecting package metadata (repodata.json): ...working... done\n",
      "Solving environment: ...working... done\n",
      "\n",
      "# All requested packages already installed.\n",
      "\n"
     ]
    }
   ],
   "source": [
    "# !conda install conda-forge::miktex"
   ]
  },
  {
   "cell_type": "code",
   "execution_count": 1,
   "id": "724a2f54-82f7-400e-b231-e718953239e9",
   "metadata": {
    "editable": true,
    "slideshow": {
     "slide_type": "slide"
    },
    "tags": []
   },
   "outputs": [
    {
     "data": {
      "text/plain": [
       "1"
      ]
     },
     "execution_count": 1,
     "metadata": {},
     "output_type": "execute_result"
    }
   ],
   "source": [
    "1"
   ]
  },
  {
   "cell_type": "code",
   "execution_count": null,
   "id": "fd8803d5-2dca-4cda-9bd2-6e3d7928a639",
   "metadata": {
    "editable": true,
    "slideshow": {
     "slide_type": "skip"
    },
    "tags": []
   },
   "outputs": [],
   "source": []
  },
  {
   "cell_type": "code",
   "execution_count": 5,
   "id": "b884ce50-b156-4757-8c43-e241ba3d24ef",
   "metadata": {
    "editable": true,
    "slideshow": {
     "slide_type": "slide"
    },
    "tags": []
   },
   "outputs": [
    {
     "data": {
      "text/plain": [
       "2"
      ]
     },
     "execution_count": 5,
     "metadata": {},
     "output_type": "execute_result"
    }
   ],
   "source": [
    "1+1"
   ]
  },
  {
   "cell_type": "markdown",
   "id": "cf7a8efc-04ae-4016-a278-093680cf9a35",
   "metadata": {
    "editable": true,
    "slideshow": {
     "slide_type": "subslide"
    },
    "tags": []
   },
   "source": [
    "This is a markdown cell"
   ]
  },
  {
   "cell_type": "markdown",
   "id": "556db84c-91ae-4f04-b6bc-e07ef3de4a9c",
   "metadata": {
    "editable": true,
    "slideshow": {
     "slide_type": "slide"
    },
    "tags": []
   },
   "source": [
    "# This is a heading"
   ]
  },
  {
   "cell_type": "raw",
   "id": "06cff334-5d0a-4066-abc3-65961e4dd795",
   "metadata": {
    "editable": true,
    "raw_mimetype": "",
    "slideshow": {
     "slide_type": "subslide"
    },
    "tags": []
   },
   "source": [
    "# This is a heading"
   ]
  },
  {
   "cell_type": "raw",
   "id": "6c5fa72a-f9e9-4eb2-b4aa-1b8153399d18",
   "metadata": {
    "editable": true,
    "raw_mimetype": "",
    "slideshow": {
     "slide_type": ""
    },
    "tags": []
   },
   "source": [
    "\\begin{itemize}\n",
    "  \\item List entries start with the \\verb|\\item| command.\n",
    "  \\item Individual entries are indicated with a black dot, a so-called bullet.\n",
    "  \\item The text in the entries may be of any length.\n",
    "\\end{itemize}"
   ]
  }
 ],
 "metadata": {
  "kernelspec": {
   "display_name": "ndd_d1",
   "language": "python",
   "name": "ndd_d1"
  },
  "language_info": {
   "codemirror_mode": {
    "name": "ipython",
    "version": 3
   },
   "file_extension": ".py",
   "mimetype": "text/x-python",
   "name": "python",
   "nbconvert_exporter": "python",
   "pygments_lexer": "ipython3",
   "version": "3.12.7"
  }
 },
 "nbformat": 4,
 "nbformat_minor": 5
}

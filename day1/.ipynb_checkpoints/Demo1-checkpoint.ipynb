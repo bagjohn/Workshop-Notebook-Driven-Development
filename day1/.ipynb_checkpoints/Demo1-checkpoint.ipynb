{
 "cells": [
  {
   "cell_type": "code",
   "execution_count": null,
   "id": "1218b412-5911-410c-81f1-858b372ae390",
   "metadata": {},
   "outputs": [],
   "source": []
  },
  {
   "cell_type": "code",
   "execution_count": null,
   "id": "fe1de868-58dc-4c27-b78b-646c4e53eafb",
   "metadata": {},
   "outputs": [],
   "source": []
  },
  {
   "cell_type": "markdown",
   "id": "9c471414-3b26-4df0-bfba-eb0020c80f84",
   "metadata": {},
   "source": [
    "# This is a heading"
   ]
  },
  {
   "cell_type": "markdown",
   "id": "d1f87ac6-d3cf-4fa5-8c0c-1985ca7317d9",
   "metadata": {},
   "source": [
    "Here 1 is parameter a and the other 1 is parameter b"
   ]
  },
  {
   "cell_type": "code",
   "execution_count": 9,
   "id": "c6924bc9-3640-4dbc-9024-86ac0557e760",
   "metadata": {},
   "outputs": [
    {
     "data": {
      "text/plain": [
       "2"
      ]
     },
     "execution_count": 9,
     "metadata": {},
     "output_type": "execute_result"
    }
   ],
   "source": [
    "1+1"
   ]
  },
  {
   "cell_type": "code",
   "execution_count": 8,
   "id": "11592baa-a975-409c-a55f-dd4856104fe6",
   "metadata": {},
   "outputs": [
    {
     "data": {
      "text/plain": [
       "'Hello'"
      ]
     },
     "execution_count": 8,
     "metadata": {},
     "output_type": "execute_result"
    }
   ],
   "source": [
    "\"Hello\""
   ]
  }
 ],
 "metadata": {
  "kernelspec": {
   "display_name": "ndd_d1",
   "language": "python",
   "name": "ndd_d1"
  },
  "language_info": {
   "codemirror_mode": {
    "name": "ipython",
    "version": 3
   },
   "file_extension": ".py",
   "mimetype": "text/x-python",
   "name": "python",
   "nbconvert_exporter": "python",
   "pygments_lexer": "ipython3",
   "version": "3.12.7"
  }
 },
 "nbformat": 4,
 "nbformat_minor": 5
}
